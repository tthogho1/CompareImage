{
  "nbformat": 4,
  "nbformat_minor": 0,
  "metadata": {
    "colab": {
      "provenance": [],
      "private_outputs": true,
      "include_colab_link": true
    },
    "kernelspec": {
      "name": "python3",
      "display_name": "Python 3"
    },
    "language_info": {
      "name": "python"
    },
    "accelerator": "GPU"
  },
  "cells": [
    {
      "cell_type": "markdown",
      "metadata": {
        "id": "view-in-github",
        "colab_type": "text"
      },
      "source": [
        "<a href=\"https://colab.research.google.com/github/tthogho1/CompareImage/blob/main/sb_demo_diffusers.ipynb\" target=\"_parent\"><img src=\"https://colab.research.google.com/assets/colab-badge.svg\" alt=\"Open In Colab\"/></a>"
      ]
    },
    {
      "cell_type": "markdown",
      "source": [
        "# 記事「[Stable Diffusion を Diffusersライブラリで実行する方法](https://gammasoft.jp/blog/stable-diffusion-with-diffusers-library/)」のノートブック\n",
        "\n",
        "手順の詳しい説明は記事をご覧ください。"
      ],
      "metadata": {
        "id": "EwhtMpY89nkT"
      }
    },
    {
      "cell_type": "markdown",
      "source": [
        "## 1. 新規ノートブックを作成、GPUを有効にする\n",
        "\n",
        "このノートブックをそのまま使用する場合は、新規に作成する必要はありません。\n",
        "\n",
        "［ランタイム］-［ランタイムのタイプを変更］を選択し、「ノートブックの設定」を「GPU」に変更して、［保存］をクリックします。\n",
        "GPUが有効になったか以下のコマンドで確認します。"
      ],
      "metadata": {
        "id": "7jmlbOHi98Ky"
      }
    },
    {
      "cell_type": "code",
      "source": [
        "!nvidia-smi"
      ],
      "metadata": {
        "id": "aPaGiubnWmsp"
      },
      "execution_count": null,
      "outputs": []
    },
    {
      "cell_type": "markdown",
      "source": [
        "## 2. 必要なライブラリのインストール"
      ],
      "metadata": {
        "id": "Fz5ExktBAi3S"
      }
    },
    {
      "cell_type": "code",
      "source": [
        "!pip install diffusers transformers ftfy accelerate"
      ],
      "metadata": {
        "id": "rB0kh5-uX6RH"
      },
      "execution_count": null,
      "outputs": []
    },
    {
      "cell_type": "markdown",
      "source": [
        "## 3. 画像生成を実行\n",
        "\n",
        "`YOUR_TOKEN`には先ほど取得したアクセストークン、`prompt`には生成したい画像のプロンプトを入力します。"
      ],
      "metadata": {
        "id": "WLXyk8h9Avx6"
      }
    },
    {
      "cell_type": "code",
      "execution_count": null,
      "metadata": {
        "id": "ZHHenrs4EKFM"
      },
      "outputs": [],
      "source": [
        "import torch\n",
        "from diffusers import StableDiffusionPipeline\n",
        "\n",
        "model_id = \"CompVis/stable-diffusion-v1-4\"\n",
        "device = \"cuda\"\n",
        "\n",
        "# プロンプト\n",
        "prompt = \"Mt. Fuji in the style of Gauguin\"\n",
        "\n",
        "# パイプラインの作成\n",
        "pipe = StableDiffusionPipeline.from_pretrained(model_id, revision=\"fp16\", torch_dtype=torch.float16)\n",
        "pipe = pipe.to(device)\n",
        "\n",
        "# パイプラインの実行\n",
        "generator = torch.Generator(device).manual_seed(42) # seedを前回と同じ42にする\n",
        "image = pipe(prompt, guidance_scale=7.5, generator=generator).images[0]  \n",
        "\n",
        "# 生成した画像の保存\n",
        "image.save(\"mt_fuji_gauguin.png\")"
      ]
    },
    {
      "cell_type": "markdown",
      "source": [
        "## 4. 生成された画像を確認\n",
        "\n",
        "画像のファイル（ここでは`mt_fuji_gauguin.png`）をダブルクリックして画像を確認。\n",
        "\n",
        "## 5. モデルをv1-2に差し替えて実行！！\n",
        "\n",
        "\n",
        "\n"
      ],
      "metadata": {
        "id": "cSJz0FuQBKZh"
      }
    },
    {
      "cell_type": "code",
      "source": [
        "# v1-2のモデル\n",
        "model_id = \"CompVis/stable-diffusion-v1-2\"\n",
        "\n",
        "# パイプラインの作成\n",
        "pipe = StableDiffusionPipeline.from_pretrained(model_id, revision=\"fp16\", torch_dtype=torch.float16)\n",
        "pipe = pipe.to(device)\n",
        "\n",
        "# パイプラインの実行\n",
        "generator = torch.Generator(device).manual_seed(42) # seedを前回と同じ42にする\n",
        "image = pipe(prompt, guidance_scale=7.5, generator=generator).images[0]  \n",
        "\n",
        "# 生成した画像の保存\n",
        "image.save(\"mt_fuji_gauguin_v1-2.png\")"
      ],
      "metadata": {
        "id": "Wo0sULPEWk1L"
      },
      "execution_count": null,
      "outputs": []
    },
    {
      "cell_type": "markdown",
      "source": [
        "画像のファイル（ここでは`mt_fuji_gauguin_v1-2.png`）をダブルクリックして画像を確認。"
      ],
      "metadata": {
        "id": "lKAeqUvOCAgo"
      }
    },
    {
      "cell_type": "markdown",
      "source": [
        "## 6. モデルをv2-1-baseに差し替えて実行！！"
      ],
      "metadata": {
        "id": "KwImYVlNMglx"
      }
    },
    {
      "cell_type": "code",
      "source": [
        "# v2-1-baseのモデル\n",
        "model_id = \"stabilityai/stable-diffusion-2-1-base\"\n",
        "\n",
        "# パイプラインの作成\n",
        "pipe = StableDiffusionPipeline.from_pretrained(model_id, revision=\"fp16\", torch_dtype=torch.float16)\n",
        "pipe = pipe.to(device)\n",
        "\n",
        "# パイプラインの実行\n",
        "generator = torch.Generator(device).manual_seed(42) # seedを前回と同じ42にする\n",
        "image = pipe(prompt, guidance_scale=7.5, generator=generator).images[0]  \n",
        "\n",
        "# 生成した画像の保存\n",
        "image.save(\"mt_fuji_gauguin_v2-1-base.png\")"
      ],
      "metadata": {
        "id": "dtuxatmQMZVS"
      },
      "execution_count": null,
      "outputs": []
    },
    {
      "cell_type": "markdown",
      "source": [
        "画像のファイル（ここではmt_fuji_gauguin_v2-1-base.png）をダブルクリックして画像を確認。"
      ],
      "metadata": {
        "id": "xrujYSkBO3M0"
      }
    },
    {
      "cell_type": "markdown",
      "source": [
        "## 7. モデルをv2-1に差し替えて実行！！"
      ],
      "metadata": {
        "id": "q_Kku0ypR-Ul"
      }
    },
    {
      "cell_type": "code",
      "source": [
        "# v2-1のモデル\n",
        "model_id = \"stabilityai/stable-diffusion-2-1\"\n",
        "\n",
        "# パイプラインの作成\n",
        "pipe = StableDiffusionPipeline.from_pretrained(model_id, revision=\"fp16\", torch_dtype=torch.float16)\n",
        "pipe = pipe.to(device)\n",
        "\n",
        "# パイプラインの実行\n",
        "generator = torch.Generator(device).manual_seed(42) # seedを前回と同じ42にする\n",
        "image = pipe(prompt, guidance_scale=7.5, generator=generator).images[0]  \n",
        "\n",
        "# 生成した画像の保存\n",
        "image.save(\"mt_fuji_gauguin_v2-1.png\")"
      ],
      "metadata": {
        "id": "ucQ3p7i7O2fv"
      },
      "execution_count": null,
      "outputs": []
    },
    {
      "cell_type": "markdown",
      "source": [
        "画像のファイル（ここではmt_fuji_gauguin_v2-1.png）をダブルクリックして画像を確認。"
      ],
      "metadata": {
        "id": "TnsdV_auWwFb"
      }
    }
  ]
}