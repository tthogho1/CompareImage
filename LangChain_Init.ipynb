{
  "nbformat": 4,
  "nbformat_minor": 0,
  "metadata": {
    "colab": {
      "provenance": [],
      "gpuType": "T4",
      "include_colab_link": true
    },
    "kernelspec": {
      "name": "python3",
      "display_name": "Python 3"
    },
    "language_info": {
      "name": "python"
    },
    "accelerator": "GPU"
  },
  "cells": [
    {
      "cell_type": "markdown",
      "metadata": {
        "id": "view-in-github",
        "colab_type": "text"
      },
      "source": [
        "<a href=\"https://colab.research.google.com/github/tthogho1/CompareImage/blob/main/LangChain_Init.ipynb\" target=\"_parent\"><img src=\"https://colab.research.google.com/assets/colab-badge.svg\" alt=\"Open In Colab\"/></a>"
      ]
    },
    {
      "cell_type": "markdown",
      "source": [
        "# LangChain Init"
      ],
      "metadata": {
        "id": "1N0grx1LMTGH"
      }
    },
    {
      "cell_type": "code",
      "execution_count": null,
      "metadata": {
        "id": "2lpruZHdMTGI"
      },
      "outputs": [],
      "source": [
        "!pip install langchain"
      ]
    },
    {
      "cell_type": "code",
      "source": [
        "!pip install openai"
      ],
      "metadata": {
        "id": "5rcsZaSnMTGI"
      },
      "execution_count": null,
      "outputs": []
    },
    {
      "cell_type": "markdown",
      "source": [],
      "metadata": {
        "id": "AltmTHkA9lMY"
      }
    },
    {
      "cell_type": "code",
      "source": [
        "import os\n",
        "\n",
        "#TODO: APIキーの登録が必要\n",
        "os.environ[\"OPENAI_API_KEY\"] = \"sk-\""
      ],
      "metadata": {
        "id": "pBTFhsRJMTGJ"
      },
      "execution_count": null,
      "outputs": []
    },
    {
      "cell_type": "code",
      "source": [
        "from langchain import PromptTemplate\n",
        "from langchain.chat_models import ChatOpenAI\n",
        "from langchain import LLMChain\n",
        "\n",
        "# OpenAIのモデルのインスタンスを作成\n",
        "chat = ChatOpenAI(model_name=\"gpt-3.5-turbo\", temperature=0)\n",
        "\n",
        "# プロンプトのテンプレート文章を定義\n",
        "template = \"\"\"\n",
        "次の文章に誤字がないか調べて。誤字があれば訂正してください。\n",
        "{sentences_before_check}\n",
        "\"\"\"\n",
        "\n",
        "# テンプレート文章にあるチェック対象の単語を変数化\n",
        "prompt = PromptTemplate(\n",
        "    input_variables=[\"sentences_before_check\"],\n",
        "    template=template,\n",
        ")\n",
        "\n",
        "# OpenAIのAPIにこのプロンプトを送信するためのチェーンを作成\n",
        "chain = LLMChain(llm=chat, prompt=prompt,verbose=True)\n",
        "\n",
        "# チェーンを実行し、結果を表示\n",
        "print(chain(\"こんんんちわ、真純です。\")['text'])"
      ],
      "metadata": {
        "id": "Ur4zNFdYMTGJ"
      },
      "execution_count": null,
      "outputs": []
    }
  ]
}