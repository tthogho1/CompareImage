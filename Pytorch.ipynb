{
  "nbformat": 4,
  "nbformat_minor": 0,
  "metadata": {
    "colab": {
      "name": "Pytorch",
      "provenance": [],
      "collapsed_sections": [],
      "authorship_tag": "ABX9TyNg5vlzGXd7WhUDBWtDIkxj",
      "include_colab_link": true
    },
    "kernelspec": {
      "name": "python3",
      "display_name": "Python 3"
    },
    "language_info": {
      "name": "python"
    },
    "widgets": {
      "application/vnd.jupyter.widget-state+json": {
        "f4992e21ed12414580b2c9cd2f9cf75a": {
          "model_module": "@jupyter-widgets/controls",
          "model_name": "HBoxModel",
          "model_module_version": "1.5.0",
          "state": {
            "_view_name": "HBoxView",
            "_dom_classes": [],
            "_model_name": "HBoxModel",
            "_view_module": "@jupyter-widgets/controls",
            "_model_module_version": "1.5.0",
            "_view_count": null,
            "_view_module_version": "1.5.0",
            "box_style": "",
            "layout": "IPY_MODEL_38e243ee2a4c43379adc5d333f6f043f",
            "_model_module": "@jupyter-widgets/controls",
            "children": [
              "IPY_MODEL_5bea8092bb7646568d744ed31f36ffd9",
              "IPY_MODEL_9fdc125aa83d4463812f4f145a2c471f",
              "IPY_MODEL_d7beb91884fb4a19b24292d6d69117af"
            ]
          }
        },
        "38e243ee2a4c43379adc5d333f6f043f": {
          "model_module": "@jupyter-widgets/base",
          "model_name": "LayoutModel",
          "model_module_version": "1.2.0",
          "state": {
            "_view_name": "LayoutView",
            "grid_template_rows": null,
            "right": null,
            "justify_content": null,
            "_view_module": "@jupyter-widgets/base",
            "overflow": null,
            "_model_module_version": "1.2.0",
            "_view_count": null,
            "flex_flow": null,
            "width": null,
            "min_width": null,
            "border": null,
            "align_items": null,
            "bottom": null,
            "_model_module": "@jupyter-widgets/base",
            "top": null,
            "grid_column": null,
            "overflow_y": null,
            "overflow_x": null,
            "grid_auto_flow": null,
            "grid_area": null,
            "grid_template_columns": null,
            "flex": null,
            "_model_name": "LayoutModel",
            "justify_items": null,
            "grid_row": null,
            "max_height": null,
            "align_content": null,
            "visibility": null,
            "align_self": null,
            "height": null,
            "min_height": null,
            "padding": null,
            "grid_auto_rows": null,
            "grid_gap": null,
            "max_width": null,
            "order": null,
            "_view_module_version": "1.2.0",
            "grid_template_areas": null,
            "object_position": null,
            "object_fit": null,
            "grid_auto_columns": null,
            "margin": null,
            "display": null,
            "left": null
          }
        },
        "5bea8092bb7646568d744ed31f36ffd9": {
          "model_module": "@jupyter-widgets/controls",
          "model_name": "HTMLModel",
          "model_module_version": "1.5.0",
          "state": {
            "_view_name": "HTMLView",
            "style": "IPY_MODEL_f1acb954673d4593a456249d60eb5686",
            "_dom_classes": [],
            "description": "",
            "_model_name": "HTMLModel",
            "placeholder": "​",
            "_view_module": "@jupyter-widgets/controls",
            "_model_module_version": "1.5.0",
            "value": "100%",
            "_view_count": null,
            "_view_module_version": "1.5.0",
            "description_tooltip": null,
            "_model_module": "@jupyter-widgets/controls",
            "layout": "IPY_MODEL_60a9c0207e83435f960d6985bbb52f6d"
          }
        },
        "9fdc125aa83d4463812f4f145a2c471f": {
          "model_module": "@jupyter-widgets/controls",
          "model_name": "FloatProgressModel",
          "model_module_version": "1.5.0",
          "state": {
            "_view_name": "ProgressView",
            "style": "IPY_MODEL_225f64539e0448a698fc2c33e75e2f98",
            "_dom_classes": [],
            "description": "",
            "_model_name": "FloatProgressModel",
            "bar_style": "success",
            "max": 46830571,
            "_view_module": "@jupyter-widgets/controls",
            "_model_module_version": "1.5.0",
            "value": 46830571,
            "_view_count": null,
            "_view_module_version": "1.5.0",
            "orientation": "horizontal",
            "min": 0,
            "description_tooltip": null,
            "_model_module": "@jupyter-widgets/controls",
            "layout": "IPY_MODEL_b34f2dd23ab14b9ca3301cb56aa444c4"
          }
        },
        "d7beb91884fb4a19b24292d6d69117af": {
          "model_module": "@jupyter-widgets/controls",
          "model_name": "HTMLModel",
          "model_module_version": "1.5.0",
          "state": {
            "_view_name": "HTMLView",
            "style": "IPY_MODEL_15bf807a5f6c42b0b39d8b548474fef8",
            "_dom_classes": [],
            "description": "",
            "_model_name": "HTMLModel",
            "placeholder": "​",
            "_view_module": "@jupyter-widgets/controls",
            "_model_module_version": "1.5.0",
            "value": " 44.7M/44.7M [00:00&lt;00:00, 73.5MB/s]",
            "_view_count": null,
            "_view_module_version": "1.5.0",
            "description_tooltip": null,
            "_model_module": "@jupyter-widgets/controls",
            "layout": "IPY_MODEL_d20be8966f2244f885e617697cf32952"
          }
        },
        "f1acb954673d4593a456249d60eb5686": {
          "model_module": "@jupyter-widgets/controls",
          "model_name": "DescriptionStyleModel",
          "model_module_version": "1.5.0",
          "state": {
            "_view_name": "StyleView",
            "_model_name": "DescriptionStyleModel",
            "description_width": "",
            "_view_module": "@jupyter-widgets/base",
            "_model_module_version": "1.5.0",
            "_view_count": null,
            "_view_module_version": "1.2.0",
            "_model_module": "@jupyter-widgets/controls"
          }
        },
        "60a9c0207e83435f960d6985bbb52f6d": {
          "model_module": "@jupyter-widgets/base",
          "model_name": "LayoutModel",
          "model_module_version": "1.2.0",
          "state": {
            "_view_name": "LayoutView",
            "grid_template_rows": null,
            "right": null,
            "justify_content": null,
            "_view_module": "@jupyter-widgets/base",
            "overflow": null,
            "_model_module_version": "1.2.0",
            "_view_count": null,
            "flex_flow": null,
            "width": null,
            "min_width": null,
            "border": null,
            "align_items": null,
            "bottom": null,
            "_model_module": "@jupyter-widgets/base",
            "top": null,
            "grid_column": null,
            "overflow_y": null,
            "overflow_x": null,
            "grid_auto_flow": null,
            "grid_area": null,
            "grid_template_columns": null,
            "flex": null,
            "_model_name": "LayoutModel",
            "justify_items": null,
            "grid_row": null,
            "max_height": null,
            "align_content": null,
            "visibility": null,
            "align_self": null,
            "height": null,
            "min_height": null,
            "padding": null,
            "grid_auto_rows": null,
            "grid_gap": null,
            "max_width": null,
            "order": null,
            "_view_module_version": "1.2.0",
            "grid_template_areas": null,
            "object_position": null,
            "object_fit": null,
            "grid_auto_columns": null,
            "margin": null,
            "display": null,
            "left": null
          }
        },
        "225f64539e0448a698fc2c33e75e2f98": {
          "model_module": "@jupyter-widgets/controls",
          "model_name": "ProgressStyleModel",
          "model_module_version": "1.5.0",
          "state": {
            "_view_name": "StyleView",
            "_model_name": "ProgressStyleModel",
            "description_width": "",
            "_view_module": "@jupyter-widgets/base",
            "_model_module_version": "1.5.0",
            "_view_count": null,
            "_view_module_version": "1.2.0",
            "bar_color": null,
            "_model_module": "@jupyter-widgets/controls"
          }
        },
        "b34f2dd23ab14b9ca3301cb56aa444c4": {
          "model_module": "@jupyter-widgets/base",
          "model_name": "LayoutModel",
          "model_module_version": "1.2.0",
          "state": {
            "_view_name": "LayoutView",
            "grid_template_rows": null,
            "right": null,
            "justify_content": null,
            "_view_module": "@jupyter-widgets/base",
            "overflow": null,
            "_model_module_version": "1.2.0",
            "_view_count": null,
            "flex_flow": null,
            "width": null,
            "min_width": null,
            "border": null,
            "align_items": null,
            "bottom": null,
            "_model_module": "@jupyter-widgets/base",
            "top": null,
            "grid_column": null,
            "overflow_y": null,
            "overflow_x": null,
            "grid_auto_flow": null,
            "grid_area": null,
            "grid_template_columns": null,
            "flex": null,
            "_model_name": "LayoutModel",
            "justify_items": null,
            "grid_row": null,
            "max_height": null,
            "align_content": null,
            "visibility": null,
            "align_self": null,
            "height": null,
            "min_height": null,
            "padding": null,
            "grid_auto_rows": null,
            "grid_gap": null,
            "max_width": null,
            "order": null,
            "_view_module_version": "1.2.0",
            "grid_template_areas": null,
            "object_position": null,
            "object_fit": null,
            "grid_auto_columns": null,
            "margin": null,
            "display": null,
            "left": null
          }
        },
        "15bf807a5f6c42b0b39d8b548474fef8": {
          "model_module": "@jupyter-widgets/controls",
          "model_name": "DescriptionStyleModel",
          "model_module_version": "1.5.0",
          "state": {
            "_view_name": "StyleView",
            "_model_name": "DescriptionStyleModel",
            "description_width": "",
            "_view_module": "@jupyter-widgets/base",
            "_model_module_version": "1.5.0",
            "_view_count": null,
            "_view_module_version": "1.2.0",
            "_model_module": "@jupyter-widgets/controls"
          }
        },
        "d20be8966f2244f885e617697cf32952": {
          "model_module": "@jupyter-widgets/base",
          "model_name": "LayoutModel",
          "model_module_version": "1.2.0",
          "state": {
            "_view_name": "LayoutView",
            "grid_template_rows": null,
            "right": null,
            "justify_content": null,
            "_view_module": "@jupyter-widgets/base",
            "overflow": null,
            "_model_module_version": "1.2.0",
            "_view_count": null,
            "flex_flow": null,
            "width": null,
            "min_width": null,
            "border": null,
            "align_items": null,
            "bottom": null,
            "_model_module": "@jupyter-widgets/base",
            "top": null,
            "grid_column": null,
            "overflow_y": null,
            "overflow_x": null,
            "grid_auto_flow": null,
            "grid_area": null,
            "grid_template_columns": null,
            "flex": null,
            "_model_name": "LayoutModel",
            "justify_items": null,
            "grid_row": null,
            "max_height": null,
            "align_content": null,
            "visibility": null,
            "align_self": null,
            "height": null,
            "min_height": null,
            "padding": null,
            "grid_auto_rows": null,
            "grid_gap": null,
            "max_width": null,
            "order": null,
            "_view_module_version": "1.2.0",
            "grid_template_areas": null,
            "object_position": null,
            "object_fit": null,
            "grid_auto_columns": null,
            "margin": null,
            "display": null,
            "left": null
          }
        }
      }
    }
  },
  "cells": [
    {
      "cell_type": "markdown",
      "metadata": {
        "id": "view-in-github",
        "colab_type": "text"
      },
      "source": [
        "<a href=\"https://colab.research.google.com/github/tthogho1/CompareImage/blob/main/Pytorch.ipynb\" target=\"_parent\"><img src=\"https://colab.research.google.com/assets/colab-badge.svg\" alt=\"Open In Colab\"/></a>"
      ]
    },
    {
      "cell_type": "code",
      "metadata": {
        "colab": {
          "base_uri": "https://localhost:8080/"
        },
        "id": "D66Hi09Ws2jW",
        "outputId": "a7925249-ac8d-4911-eb1a-39dbe31fea8f"
      },
      "source": [
        "!pip install torch torchvision"
      ],
      "execution_count": null,
      "outputs": [
        {
          "output_type": "stream",
          "name": "stdout",
          "text": [
            "Requirement already satisfied: torch in /usr/local/lib/python3.7/dist-packages (1.9.0+cu102)\n",
            "Requirement already satisfied: torchvision in /usr/local/lib/python3.7/dist-packages (0.10.0+cu102)\n",
            "Requirement already satisfied: typing-extensions in /usr/local/lib/python3.7/dist-packages (from torch) (3.7.4.3)\n",
            "Requirement already satisfied: numpy in /usr/local/lib/python3.7/dist-packages (from torchvision) (1.19.5)\n",
            "Requirement already satisfied: pillow>=5.3.0 in /usr/local/lib/python3.7/dist-packages (from torchvision) (7.1.2)\n"
          ]
        }
      ]
    },
    {
      "cell_type": "code",
      "metadata": {
        "colab": {
          "base_uri": "https://localhost:8080/"
        },
        "id": "i74dUmYWtuXV",
        "outputId": "378539aa-e0ee-4cf2-c77b-4ddadd53a45b"
      },
      "source": [
        "!pip install scikit-learn"
      ],
      "execution_count": null,
      "outputs": [
        {
          "output_type": "stream",
          "name": "stdout",
          "text": [
            "Requirement already satisfied: scikit-learn in /usr/local/lib/python3.7/dist-packages (0.22.2.post1)\n",
            "Requirement already satisfied: scipy>=0.17.0 in /usr/local/lib/python3.7/dist-packages (from scikit-learn) (1.4.1)\n",
            "Requirement already satisfied: numpy>=1.11.0 in /usr/local/lib/python3.7/dist-packages (from scikit-learn) (1.19.5)\n",
            "Requirement already satisfied: joblib>=0.11 in /usr/local/lib/python3.7/dist-packages (from scikit-learn) (1.0.1)\n"
          ]
        }
      ]
    },
    {
      "cell_type": "code",
      "metadata": {
        "id": "xObDbNRst5dB"
      },
      "source": [
        "import torch\n",
        "import torch.nn as nn\n",
        "import torchvision.models as models\n",
        "import torchvision.transforms as transforms\n",
        "from torch.autograd import Variable\n",
        "from PIL import Image\n",
        "\n",
        "from sklearn.metrics.pairwise import pairwise_distances\n",
        "import numpy as np\n"
      ],
      "execution_count": 35,
      "outputs": []
    },
    {
      "cell_type": "code",
      "metadata": {
        "id": "lxM26yn8xpQI",
        "colab": {
          "base_uri": "https://localhost:8080/"
        },
        "outputId": "f7f2596d-8456-4608-8316-264556f9710e"
      },
      "source": [
        "input1 = torch.randn(100, 128)\n",
        "print(input1)"
      ],
      "execution_count": 6,
      "outputs": [
        {
          "output_type": "stream",
          "name": "stdout",
          "text": [
            "tensor([[ 0.3587,  0.0720, -1.3893,  ..., -0.6334,  0.5200, -0.0132],\n",
            "        [ 1.1617, -0.5860,  0.9338,  ..., -0.3169, -1.9410, -1.3910],\n",
            "        [-1.4618, -0.6771, -0.8181,  ...,  1.4320, -0.7263, -0.4803],\n",
            "        ...,\n",
            "        [ 0.3931, -0.4351,  1.3434,  ..., -1.4457,  0.1885, -1.8502],\n",
            "        [-1.1112, -0.6888, -1.6582,  ...,  1.1764, -0.0338,  0.0382],\n",
            "        [ 1.8064,  0.3730,  0.0123,  ...,  1.1424, -0.6848,  0.2528]])\n"
          ]
        }
      ]
    },
    {
      "cell_type": "code",
      "metadata": {
        "colab": {
          "base_uri": "https://localhost:8080/",
          "height": 66,
          "referenced_widgets": [
            "f4992e21ed12414580b2c9cd2f9cf75a",
            "38e243ee2a4c43379adc5d333f6f043f",
            "5bea8092bb7646568d744ed31f36ffd9",
            "9fdc125aa83d4463812f4f145a2c471f",
            "d7beb91884fb4a19b24292d6d69117af",
            "f1acb954673d4593a456249d60eb5686",
            "60a9c0207e83435f960d6985bbb52f6d",
            "225f64539e0448a698fc2c33e75e2f98",
            "b34f2dd23ab14b9ca3301cb56aa444c4",
            "15bf807a5f6c42b0b39d8b548474fef8",
            "d20be8966f2244f885e617697cf32952"
          ]
        },
        "id": "r2BGdv60uJsu",
        "outputId": "0f619a23-5ace-4f1c-cfd8-42ddd3699da1"
      },
      "source": [
        "# Load the pretrained model\n",
        "model = models.resnet18(pretrained=True)\n",
        "# Use the model object to select the desired layer\n",
        "layer = model._modules.get('avgpool')"
      ],
      "execution_count": 17,
      "outputs": [
        {
          "output_type": "stream",
          "name": "stderr",
          "text": [
            "Downloading: \"https://download.pytorch.org/models/resnet18-f37072fd.pth\" to /root/.cache/torch/hub/checkpoints/resnet18-f37072fd.pth\n"
          ]
        },
        {
          "output_type": "display_data",
          "data": {
            "application/vnd.jupyter.widget-view+json": {
              "model_id": "f4992e21ed12414580b2c9cd2f9cf75a",
              "version_minor": 0,
              "version_major": 2
            },
            "text/plain": [
              "  0%|          | 0.00/44.7M [00:00<?, ?B/s]"
            ]
          },
          "metadata": {}
        }
      ]
    },
    {
      "cell_type": "code",
      "metadata": {
        "colab": {
          "base_uri": "https://localhost:8080/"
        },
        "id": "EQ4qsdbQvOoc",
        "outputId": "ca6cd70f-61ee-4563-d75f-995ba15e4f34"
      },
      "source": [
        "from google.colab import drive\n",
        "drive.mount('/content/drive')"
      ],
      "execution_count": 8,
      "outputs": [
        {
          "output_type": "stream",
          "name": "stdout",
          "text": [
            "Mounted at /content/drive\n"
          ]
        }
      ]
    },
    {
      "cell_type": "code",
      "metadata": {
        "colab": {
          "base_uri": "https://localhost:8080/"
        },
        "id": "-ZARcv6wvzwe",
        "outputId": "4c9f4472-1c90-4bd3-c879-1ee323fb84d2"
      },
      "source": [
        "!ls /content/drive/MyDrive"
      ],
      "execution_count": 9,
      "outputs": [
        {
          "output_type": "stream",
          "name": "stdout",
          "text": [
            " 1000550952.jpg   1010004899.jpg   1010220186.jpg  'Colab Notebooks'\n"
          ]
        }
      ]
    },
    {
      "cell_type": "code",
      "metadata": {
        "colab": {
          "base_uri": "https://localhost:8080/"
        },
        "id": "kLzrrDpjyen4",
        "outputId": "ce93a13b-213b-4c50-baa7-7fcd7d2125ca"
      },
      "source": [
        "# Set model to evaluation mode\n",
        "model.eval()"
      ],
      "execution_count": 18,
      "outputs": [
        {
          "output_type": "execute_result",
          "data": {
            "text/plain": [
              "ResNet(\n",
              "  (conv1): Conv2d(3, 64, kernel_size=(7, 7), stride=(2, 2), padding=(3, 3), bias=False)\n",
              "  (bn1): BatchNorm2d(64, eps=1e-05, momentum=0.1, affine=True, track_running_stats=True)\n",
              "  (relu): ReLU(inplace=True)\n",
              "  (maxpool): MaxPool2d(kernel_size=3, stride=2, padding=1, dilation=1, ceil_mode=False)\n",
              "  (layer1): Sequential(\n",
              "    (0): BasicBlock(\n",
              "      (conv1): Conv2d(64, 64, kernel_size=(3, 3), stride=(1, 1), padding=(1, 1), bias=False)\n",
              "      (bn1): BatchNorm2d(64, eps=1e-05, momentum=0.1, affine=True, track_running_stats=True)\n",
              "      (relu): ReLU(inplace=True)\n",
              "      (conv2): Conv2d(64, 64, kernel_size=(3, 3), stride=(1, 1), padding=(1, 1), bias=False)\n",
              "      (bn2): BatchNorm2d(64, eps=1e-05, momentum=0.1, affine=True, track_running_stats=True)\n",
              "    )\n",
              "    (1): BasicBlock(\n",
              "      (conv1): Conv2d(64, 64, kernel_size=(3, 3), stride=(1, 1), padding=(1, 1), bias=False)\n",
              "      (bn1): BatchNorm2d(64, eps=1e-05, momentum=0.1, affine=True, track_running_stats=True)\n",
              "      (relu): ReLU(inplace=True)\n",
              "      (conv2): Conv2d(64, 64, kernel_size=(3, 3), stride=(1, 1), padding=(1, 1), bias=False)\n",
              "      (bn2): BatchNorm2d(64, eps=1e-05, momentum=0.1, affine=True, track_running_stats=True)\n",
              "    )\n",
              "  )\n",
              "  (layer2): Sequential(\n",
              "    (0): BasicBlock(\n",
              "      (conv1): Conv2d(64, 128, kernel_size=(3, 3), stride=(2, 2), padding=(1, 1), bias=False)\n",
              "      (bn1): BatchNorm2d(128, eps=1e-05, momentum=0.1, affine=True, track_running_stats=True)\n",
              "      (relu): ReLU(inplace=True)\n",
              "      (conv2): Conv2d(128, 128, kernel_size=(3, 3), stride=(1, 1), padding=(1, 1), bias=False)\n",
              "      (bn2): BatchNorm2d(128, eps=1e-05, momentum=0.1, affine=True, track_running_stats=True)\n",
              "      (downsample): Sequential(\n",
              "        (0): Conv2d(64, 128, kernel_size=(1, 1), stride=(2, 2), bias=False)\n",
              "        (1): BatchNorm2d(128, eps=1e-05, momentum=0.1, affine=True, track_running_stats=True)\n",
              "      )\n",
              "    )\n",
              "    (1): BasicBlock(\n",
              "      (conv1): Conv2d(128, 128, kernel_size=(3, 3), stride=(1, 1), padding=(1, 1), bias=False)\n",
              "      (bn1): BatchNorm2d(128, eps=1e-05, momentum=0.1, affine=True, track_running_stats=True)\n",
              "      (relu): ReLU(inplace=True)\n",
              "      (conv2): Conv2d(128, 128, kernel_size=(3, 3), stride=(1, 1), padding=(1, 1), bias=False)\n",
              "      (bn2): BatchNorm2d(128, eps=1e-05, momentum=0.1, affine=True, track_running_stats=True)\n",
              "    )\n",
              "  )\n",
              "  (layer3): Sequential(\n",
              "    (0): BasicBlock(\n",
              "      (conv1): Conv2d(128, 256, kernel_size=(3, 3), stride=(2, 2), padding=(1, 1), bias=False)\n",
              "      (bn1): BatchNorm2d(256, eps=1e-05, momentum=0.1, affine=True, track_running_stats=True)\n",
              "      (relu): ReLU(inplace=True)\n",
              "      (conv2): Conv2d(256, 256, kernel_size=(3, 3), stride=(1, 1), padding=(1, 1), bias=False)\n",
              "      (bn2): BatchNorm2d(256, eps=1e-05, momentum=0.1, affine=True, track_running_stats=True)\n",
              "      (downsample): Sequential(\n",
              "        (0): Conv2d(128, 256, kernel_size=(1, 1), stride=(2, 2), bias=False)\n",
              "        (1): BatchNorm2d(256, eps=1e-05, momentum=0.1, affine=True, track_running_stats=True)\n",
              "      )\n",
              "    )\n",
              "    (1): BasicBlock(\n",
              "      (conv1): Conv2d(256, 256, kernel_size=(3, 3), stride=(1, 1), padding=(1, 1), bias=False)\n",
              "      (bn1): BatchNorm2d(256, eps=1e-05, momentum=0.1, affine=True, track_running_stats=True)\n",
              "      (relu): ReLU(inplace=True)\n",
              "      (conv2): Conv2d(256, 256, kernel_size=(3, 3), stride=(1, 1), padding=(1, 1), bias=False)\n",
              "      (bn2): BatchNorm2d(256, eps=1e-05, momentum=0.1, affine=True, track_running_stats=True)\n",
              "    )\n",
              "  )\n",
              "  (layer4): Sequential(\n",
              "    (0): BasicBlock(\n",
              "      (conv1): Conv2d(256, 512, kernel_size=(3, 3), stride=(2, 2), padding=(1, 1), bias=False)\n",
              "      (bn1): BatchNorm2d(512, eps=1e-05, momentum=0.1, affine=True, track_running_stats=True)\n",
              "      (relu): ReLU(inplace=True)\n",
              "      (conv2): Conv2d(512, 512, kernel_size=(3, 3), stride=(1, 1), padding=(1, 1), bias=False)\n",
              "      (bn2): BatchNorm2d(512, eps=1e-05, momentum=0.1, affine=True, track_running_stats=True)\n",
              "      (downsample): Sequential(\n",
              "        (0): Conv2d(256, 512, kernel_size=(1, 1), stride=(2, 2), bias=False)\n",
              "        (1): BatchNorm2d(512, eps=1e-05, momentum=0.1, affine=True, track_running_stats=True)\n",
              "      )\n",
              "    )\n",
              "    (1): BasicBlock(\n",
              "      (conv1): Conv2d(512, 512, kernel_size=(3, 3), stride=(1, 1), padding=(1, 1), bias=False)\n",
              "      (bn1): BatchNorm2d(512, eps=1e-05, momentum=0.1, affine=True, track_running_stats=True)\n",
              "      (relu): ReLU(inplace=True)\n",
              "      (conv2): Conv2d(512, 512, kernel_size=(3, 3), stride=(1, 1), padding=(1, 1), bias=False)\n",
              "      (bn2): BatchNorm2d(512, eps=1e-05, momentum=0.1, affine=True, track_running_stats=True)\n",
              "    )\n",
              "  )\n",
              "  (avgpool): AdaptiveAvgPool2d(output_size=(1, 1))\n",
              "  (fc): Linear(in_features=512, out_features=1000, bias=True)\n",
              ")"
            ]
          },
          "metadata": {},
          "execution_count": 18
        }
      ]
    },
    {
      "cell_type": "code",
      "metadata": {
        "colab": {
          "base_uri": "https://localhost:8080/"
        },
        "id": "Z0lKX4Pyy-ND",
        "outputId": "f35a3451-78fa-409b-8e0c-55a5dd18eef3"
      },
      "source": [
        "scaler = transforms.Scale((224, 224))\n",
        "normalize = transforms.Normalize(mean=[0.485, 0.456, 0.406],\n",
        "                                 std=[0.229, 0.224, 0.225])\n",
        "to_tensor = transforms.ToTensor()"
      ],
      "execution_count": 19,
      "outputs": [
        {
          "output_type": "stream",
          "name": "stderr",
          "text": [
            "/usr/local/lib/python3.7/dist-packages/torchvision/transforms/transforms.py:310: UserWarning: The use of the transforms.Scale transform is deprecated, please use transforms.Resize instead.\n",
            "  warnings.warn(\"The use of the transforms.Scale transform is deprecated, \" +\n"
          ]
        }
      ]
    },
    {
      "cell_type": "code",
      "metadata": {
        "id": "uD_Q9s9gz_Kt"
      },
      "source": [
        "def get_vector(image_name):\n",
        "    # 1. Load the image with Pillow library\n",
        "    img = Image.open(image_name)\n",
        "    # 2. Create a PyTorch Variable with the transformed image\n",
        "    t_img = Variable(normalize(to_tensor(scaler(img))).unsqueeze(0))\n",
        "    # 3. Create a vector of zeros that will hold our feature vector\n",
        "    #    The 'avgpool' layer has an output size of 512\n",
        "    my_embedding = torch.zeros(512)\n",
        "    # 4. Define a function that will copy the output of a layer\n",
        "    def copy_data(m, i, o):\n",
        "        my_embedding.copy_(o.data.reshape(o.data.size(1)))\n",
        "    # 5. Attach that function to our selected layer\n",
        "    h = layer.register_forward_hook(copy_data)\n",
        "    # 6. Run the model on our transformed image\n",
        "    model(t_img)\n",
        "    # 7. Detach our copy function from the layer\n",
        "    h.remove()\n",
        "    # 8. Return the feature vector\n",
        "    return my_embedding\n"
      ],
      "execution_count": 20,
      "outputs": []
    },
    {
      "cell_type": "code",
      "metadata": {
        "colab": {
          "base_uri": "https://localhost:8080/"
        },
        "id": "3Xgdchgu0Jtf",
        "outputId": "5b63adde-f5b6-44de-823e-0496b4380a69"
      },
      "source": [
        "!ls /content/drive/MyDrive"
      ],
      "execution_count": 13,
      "outputs": [
        {
          "output_type": "stream",
          "name": "stdout",
          "text": [
            " 1000550952.jpg   1010004899.jpg   1010220186.jpg  'Colab Notebooks'\n"
          ]
        }
      ]
    },
    {
      "cell_type": "code",
      "metadata": {
        "id": "MJMXu_po0IF7",
        "colab": {
          "base_uri": "https://localhost:8080/"
        },
        "outputId": "43f4d49a-38e5-4c62-d924-d3927f30b26f"
      },
      "source": [
        "pic_one_vector = get_vector(\"/content/drive/MyDrive/1010004899.jpg\")\n",
        "pic_two_vector = get_vector('/content/drive/MyDrive/1010220186.jpg')"
      ],
      "execution_count": 21,
      "outputs": [
        {
          "output_type": "stream",
          "name": "stderr",
          "text": [
            "/usr/local/lib/python3.7/dist-packages/torch/nn/functional.py:718: UserWarning: Named tensors and all their associated APIs are an experimental feature and subject to change. Please do not use them for anything important until they are released as stable. (Triggered internally at  /pytorch/c10/core/TensorImpl.h:1156.)\n",
            "  return torch.max_pool2d(input, kernel_size, stride, padding, dilation, ceil_mode)\n"
          ]
        }
      ]
    },
    {
      "cell_type": "code",
      "metadata": {
        "colab": {
          "base_uri": "https://localhost:8080/"
        },
        "id": "RBQ4x8R7nh_i",
        "outputId": "b8428666-b3ad-49f9-c39d-0de2e7c356b9"
      },
      "source": [
        "# Using PyTorch Cosine Similarity\n",
        "cos = nn.CosineSimilarity(dim=1, eps=1e-6)\n",
        "cos_sim = cos(pic_one_vector.unsqueeze(0),\n",
        "              pic_two_vector.unsqueeze(0))\n",
        "print('\\nCosine similarity: {0}\\n'.format(cos_sim))"
      ],
      "execution_count": 22,
      "outputs": [
        {
          "output_type": "stream",
          "name": "stdout",
          "text": [
            "\n",
            "Cosine similarity: tensor([0.6713])\n",
            "\n"
          ]
        }
      ]
    },
    {
      "cell_type": "code",
      "metadata": {
        "colab": {
          "base_uri": "https://localhost:8080/"
        },
        "id": "4rtF7dyXZs1O",
        "outputId": "55cc1ab2-62a3-485c-b53c-d0798dc7031a"
      },
      "source": [
        "x_list = []\n",
        "x_list.append(pic_one_vector)\n",
        "x_list.append(pic_two_vector)\n",
        "print(torch.stack(x_list))\n",
        "torch.stack(x_list).size()\n",
        "print(pic_one_vector)"
      ],
      "execution_count": 31,
      "outputs": [
        {
          "output_type": "stream",
          "name": "stdout",
          "text": [
            "tensor([[1.4589, 0.3039, 0.3280,  ..., 0.9439, 3.5692, 0.4273],\n",
            "        [0.4054, 1.7750, 1.9254,  ..., 0.8445, 0.5413, 0.0639]])\n",
            "tensor([1.4589e+00, 3.0386e-01, 3.2796e-01, 1.9138e-01, 2.8005e-01, 1.3872e-01,\n",
            "        3.6402e-01, 1.2477e-01, 7.3426e-01, 1.5970e-01, 4.4163e-01, 5.0515e-01,\n",
            "        8.2809e-01, 2.1711e-01, 3.8365e-02, 1.5729e-01, 2.1684e-01, 0.0000e+00,\n",
            "        1.7634e-01, 7.2019e-01, 2.1628e-02, 2.8407e+00, 1.0263e-01, 2.1309e-01,\n",
            "        1.2879e-01, 6.5316e-01, 4.1290e-03, 7.3910e-01, 3.4384e-01, 2.1728e-01,\n",
            "        4.6472e-01, 5.6511e-01, 1.2451e+00, 5.8634e-02, 4.3798e-01, 5.4457e-01,\n",
            "        5.3542e-01, 5.9974e-01, 3.3257e+00, 1.8086e-01, 5.2549e-01, 3.4851e-01,\n",
            "        7.4715e-02, 8.0584e-01, 1.1847e+00, 3.5332e-01, 1.9594e+00, 1.6478e-03,\n",
            "        1.5889e+00, 8.9115e-02, 2.6879e+00, 1.3961e+00, 1.4061e+00, 3.9708e-01,\n",
            "        2.2176e-02, 7.0869e-01, 1.0490e+00, 4.5120e-01, 7.8677e-01, 7.1630e-01,\n",
            "        0.0000e+00, 2.6368e-01, 1.1048e+00, 1.5186e-01, 1.7270e+00, 1.3139e+00,\n",
            "        7.3378e-01, 3.3818e-01, 5.3287e-01, 2.9176e-01, 1.9986e-01, 1.8329e+00,\n",
            "        2.3295e-01, 2.0076e-01, 1.5370e-01, 6.3314e-01, 8.2780e-01, 1.0638e+00,\n",
            "        1.2836e-01, 2.6968e-01, 3.5986e-01, 1.2381e+00, 1.0364e-02, 1.8032e+00,\n",
            "        5.9792e-02, 7.2463e-01, 1.2859e-01, 2.7013e-01, 1.6474e+00, 1.2386e+00,\n",
            "        6.7680e-01, 6.2144e-01, 7.6434e-01, 3.6304e-02, 1.3404e+00, 4.2881e-02,\n",
            "        1.4259e-01, 7.0075e-01, 4.8142e-01, 2.5717e-01, 6.9145e-01, 1.1963e-01,\n",
            "        1.1311e+00, 3.3322e-01, 1.5448e+00, 1.4403e-01, 5.3427e-01, 4.7283e-01,\n",
            "        7.0191e-03, 1.8472e+00, 1.7561e+00, 2.0416e+00, 4.3253e-01, 8.1082e-02,\n",
            "        1.3620e-01, 9.1003e-01, 2.4410e+00, 9.1591e-01, 5.7723e-01, 4.0133e-01,\n",
            "        1.4296e+00, 1.2210e+00, 2.0636e-01, 2.6905e-01, 5.6309e-01, 5.0643e-01,\n",
            "        3.4083e-02, 2.1631e-01, 3.3086e+00, 4.9094e-03, 4.2573e-01, 5.3295e-01,\n",
            "        1.3112e-02, 1.5149e+00, 7.0866e-02, 8.9932e-01, 1.0444e-01, 0.0000e+00,\n",
            "        5.0928e-01, 3.4109e-01, 9.0117e-01, 8.8963e-01, 4.1823e-01, 5.3040e-01,\n",
            "        2.0339e-01, 5.6147e-03, 2.4795e-01, 1.0227e-01, 4.6203e-01, 1.1806e+00,\n",
            "        7.2414e-01, 2.9975e-01, 7.8608e-02, 2.9539e-01, 2.4646e-01, 1.6937e-01,\n",
            "        1.0737e-01, 6.0223e-01, 6.1646e-01, 6.2621e-01, 6.0244e-01, 9.9048e-04,\n",
            "        1.0862e-01, 3.6755e+00, 1.3715e+00, 1.1323e-01, 1.3634e+00, 3.9394e-01,\n",
            "        6.3277e-01, 0.0000e+00, 6.8612e-01, 1.8094e-01, 1.3208e-01, 2.8776e-01,\n",
            "        1.1388e+00, 2.7534e-01, 8.2154e-01, 1.5218e-01, 3.9476e-01, 2.8311e-01,\n",
            "        7.8312e-02, 9.4691e-01, 4.5010e+00, 8.7485e-01, 1.9768e+00, 3.2152e-02,\n",
            "        4.4157e-01, 2.3468e+00, 5.8474e-02, 3.5644e-01, 7.3937e-01, 1.3986e-01,\n",
            "        1.0475e+00, 1.5442e+00, 1.3708e-01, 0.0000e+00, 3.7049e-01, 1.9096e+00,\n",
            "        7.8591e-01, 1.3168e-02, 9.2836e-02, 1.2922e-02, 1.6766e+00, 5.1099e-02,\n",
            "        2.8956e+00, 1.2515e+00, 0.0000e+00, 2.3662e-01, 1.5705e+00, 1.7706e+00,\n",
            "        4.3820e-04, 6.1421e-01, 5.6934e-01, 1.4775e+00, 9.9322e-01, 3.0029e-01,\n",
            "        1.1583e+00, 5.9972e-01, 2.0983e+00, 7.8099e-02, 1.2013e+00, 5.3676e-01,\n",
            "        3.2736e-01, 2.6978e+00, 8.1303e-02, 1.6025e+00, 1.1078e+00, 3.5322e-01,\n",
            "        7.2846e-01, 1.1870e-02, 1.1995e-01, 9.0373e-01, 1.0522e+00, 3.2001e-02,\n",
            "        1.8552e-01, 9.1596e-01, 7.5832e-01, 2.8334e-01, 5.2696e-03, 0.0000e+00,\n",
            "        1.6770e-01, 1.0160e+00, 9.1332e-01, 1.3129e-01, 4.6441e-01, 7.7174e-01,\n",
            "        2.7688e-01, 1.1457e-01, 6.4829e-01, 2.2172e+00, 1.7897e+00, 8.7214e-01,\n",
            "        3.3869e-03, 9.2384e-01, 5.2041e-01, 1.9510e-01, 8.0052e-01, 6.1096e-02,\n",
            "        4.8311e-01, 2.7850e-01, 2.3840e-01, 1.2910e+00, 1.6447e+00, 5.8787e-01,\n",
            "        9.2514e-02, 2.3176e+00, 5.7209e-02, 1.3836e+00, 1.6152e+00, 5.9189e-01,\n",
            "        8.6780e-02, 1.1062e-02, 2.2768e-02, 5.7800e-01, 3.8558e-01, 1.2842e+00,\n",
            "        1.9442e+00, 1.8613e+00, 2.1803e-01, 1.9655e-01, 1.9244e+00, 3.4467e-01,\n",
            "        1.1332e-01, 2.3249e-01, 4.3444e-01, 5.9843e-01, 3.6736e-02, 2.1326e+00,\n",
            "        6.7384e-01, 4.1227e-03, 1.3953e+00, 1.0097e+00, 6.4075e-01, 6.8428e-01,\n",
            "        2.2116e-01, 9.2648e-02, 1.0546e+00, 1.9581e+00, 6.2003e-03, 1.8691e-01,\n",
            "        7.7336e-01, 7.0407e-02, 7.8841e-02, 1.4478e+00, 2.5071e+00, 1.7008e-02,\n",
            "        2.3725e-02, 6.5792e-01, 4.3722e-01, 2.6968e-01, 8.2796e-01, 5.6484e-01,\n",
            "        2.4041e+00, 8.8717e-01, 8.8005e-01, 6.9675e-01, 4.9215e-02, 3.2653e-01,\n",
            "        8.6822e-02, 1.2348e+00, 6.0938e-01, 7.3102e-01, 2.3534e-02, 2.0136e-01,\n",
            "        8.7765e-01, 6.0337e-01, 2.4762e-01, 3.5625e-01, 7.4834e-01, 0.0000e+00,\n",
            "        1.4549e+00, 4.1627e-01, 9.7775e-01, 9.9140e-02, 2.5347e+00, 8.5306e-01,\n",
            "        8.8028e-02, 0.0000e+00, 5.9642e-02, 2.2322e-02, 7.9675e-01, 2.4835e+00,\n",
            "        7.4970e-02, 7.1338e-01, 1.0804e+00, 3.0873e-01, 5.5467e-02, 2.3494e-02,\n",
            "        6.2690e-01, 1.8721e+00, 9.1164e-01, 3.3054e-01, 2.1551e-01, 1.3620e+00,\n",
            "        3.2006e-01, 8.5153e-02, 9.2826e-01, 1.2280e+00, 1.9092e-01, 5.8092e-03,\n",
            "        3.9692e-02, 1.1313e-01, 1.4760e+00, 6.7895e-01, 3.5461e-01, 6.6764e-01,\n",
            "        2.0660e+00, 2.1246e+00, 1.8311e+00, 2.7601e-01, 1.2587e+00, 4.5854e-01,\n",
            "        1.1936e+00, 6.8414e-01, 2.8536e+00, 2.3033e-01, 6.0449e-01, 7.8257e-01,\n",
            "        3.2956e-01, 1.8250e-01, 1.0564e-01, 1.0856e-01, 2.4692e+00, 3.4095e+00,\n",
            "        1.3972e+00, 2.2530e-02, 1.8126e+00, 2.6264e-01, 3.7162e-01, 1.1484e+00,\n",
            "        3.8594e-01, 1.8381e+00, 3.2961e-01, 2.7470e+00, 4.6948e-01, 9.7169e-01,\n",
            "        3.0005e-01, 3.4117e-01, 1.1142e+00, 3.9161e-01, 2.5103e+00, 1.7729e-01,\n",
            "        1.7888e-01, 1.5734e+00, 1.2123e+00, 3.4112e-01, 1.1579e+00, 2.7152e-01,\n",
            "        0.0000e+00, 8.9339e-01, 5.4308e-01, 1.1929e+00, 4.5789e+00, 8.2186e-02,\n",
            "        6.9514e-01, 8.6749e-01, 4.0414e-01, 4.4854e-01, 5.3205e-01, 2.4372e-01,\n",
            "        5.5959e-01, 2.7481e-01, 7.8718e-02, 1.1731e+00, 1.4965e+00, 8.8137e-01,\n",
            "        1.5535e+00, 1.2162e+00, 2.8022e-01, 2.1114e-01, 9.6589e-01, 7.4391e-01,\n",
            "        7.3343e-01, 5.2815e-01, 0.0000e+00, 2.3318e+00, 4.4380e-01, 4.1565e-01,\n",
            "        4.5498e+00, 1.4488e+00, 1.7569e-01, 2.2089e-01, 5.1847e-02, 1.2720e+00,\n",
            "        4.5193e-01, 6.5747e-01, 6.9444e-01, 1.6410e-01, 7.9107e-02, 3.6091e-01,\n",
            "        1.0154e+00, 6.3039e-02, 3.3818e-01, 1.0441e+00, 1.5380e+00, 3.0198e-01,\n",
            "        7.8255e-01, 3.0300e-01, 9.2079e-02, 1.3027e+00, 1.9294e-02, 3.9202e-02,\n",
            "        4.1953e-01, 6.1015e-02, 6.4372e-01, 2.2432e+00, 3.6186e-01, 5.4143e-01,\n",
            "        4.5080e-01, 1.9365e-01, 1.3795e+00, 3.4484e-01, 5.7206e-01, 5.1890e-01,\n",
            "        9.7556e-01, 9.6897e-01, 1.5881e-01, 2.0740e-02, 5.1646e-01, 6.0435e-02,\n",
            "        1.5980e+00, 1.6598e+00, 9.5424e-01, 5.8219e-01, 3.1499e-01, 9.4591e-01,\n",
            "        1.6226e+00, 1.5192e-01, 1.1684e+00, 2.7206e-01, 1.2229e+00, 2.8587e-01,\n",
            "        2.7155e-03, 1.1609e-03, 6.7387e-01, 0.0000e+00, 3.8313e-01, 1.2772e+00,\n",
            "        7.4112e-01, 1.6121e-01, 4.3050e-02, 1.9232e+00, 2.5208e-01, 9.4213e-02,\n",
            "        2.0024e-02, 1.8341e+00, 0.0000e+00, 2.6988e+00, 1.1949e+00, 9.4391e-01,\n",
            "        3.5692e+00, 4.2733e-01])\n"
          ]
        }
      ]
    },
    {
      "cell_type": "code",
      "metadata": {
        "colab": {
          "base_uri": "https://localhost:8080/"
        },
        "id": "uPQ6Wz8IYpBi",
        "outputId": "00a97098-687d-453a-a7fc-d99a04fb8b36"
      },
      "source": [
        "similarity_matrix = 1 - pairwise_distances(torch.stack(x_list), metric='cosine')\n",
        "np.fill_diagonal(similarity_matrix, 0)\n",
        "print(similarity_matrix.shape)\n"
      ],
      "execution_count": 37,
      "outputs": [
        {
          "output_type": "stream",
          "name": "stdout",
          "text": [
            "(2, 2)\n"
          ]
        }
      ]
    }
  ]
}