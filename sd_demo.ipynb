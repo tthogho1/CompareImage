{
  "nbformat": 4,
  "nbformat_minor": 0,
  "metadata": {
    "colab": {
      "provenance": [],
      "private_outputs": true,
      "include_colab_link": true
    },
    "kernelspec": {
      "name": "python3",
      "display_name": "Python 3"
    },
    "language_info": {
      "name": "python"
    },
    "accelerator": "GPU"
  },
  "cells": [
    {
      "cell_type": "markdown",
      "metadata": {
        "id": "view-in-github",
        "colab_type": "text"
      },
      "source": [
        "<a href=\"https://colab.research.google.com/github/tthogho1/CompareImage/blob/main/sd_demo.ipynb\" target=\"_parent\"><img src=\"https://colab.research.google.com/assets/colab-badge.svg\" alt=\"Open In Colab\"/></a>"
      ]
    },
    {
      "cell_type": "markdown",
      "source": [
        "# 記事「[Stable Diffusion を Google Colab でシンプルに体験する方法](https://gammasoft.jp/blog/simple-way-to-try-stable-diffusion/)」 のノートブック\n",
        "\n",
        "手順の詳しい説明は記事をご覧ください。"
      ],
      "metadata": {
        "id": "6hV5_wXK6-sz"
      }
    },
    {
      "cell_type": "markdown",
      "source": [
        "## 0. 準備\n",
        "学習済みモデル（sd-v1-4.ckpt）を Google Drive にアップロードしておきます。\n",
        "\n",
        "## 1. Google Colab で新規ノートブックを作成\n",
        "このノートブックをそのまま使用する場合は、新規に作成する必要はありません。\n",
        "\n",
        "## 2. GPUを有効にする\n",
        "［ランタイム］-［ランタイムのタイプを変更］を選択し、「ノートブックの設定」を「GPU」に変更して、［保存］をクリックします。\n",
        "\n",
        "GPUが有効になったか以下のコマンドで確認します。"
      ],
      "metadata": {
        "id": "TjN4q2RU_Fu-"
      }
    },
    {
      "cell_type": "code",
      "execution_count": null,
      "metadata": {
        "id": "0GB4K_C7ESQ4"
      },
      "outputs": [],
      "source": [
        "!nvidia-smi"
      ]
    },
    {
      "cell_type": "markdown",
      "source": [
        "## 3. 必要なライブラリのインストール"
      ],
      "metadata": {
        "id": "Wzfc4h6ZBTHs"
      }
    },
    {
      "cell_type": "code",
      "source": [
        "!pip install albumentations==0.4.3\n",
        "!pip install diffusers\n",
        "!pip install opencv-python==4.1.2.30\n",
        "!pip install pudb==2019.2\n",
        "!pip install imageio==2.9.0\n",
        "!pip install imageio-ffmpeg==0.4.2\n",
        "!pip install pytorch-lightning\n",
        "!pip install omegaconf==2.1.1\n",
        "!pip install test-tube>=0.7.5\n",
        "!pip install streamlit>=0.73.1\n",
        "!pip install einops==0.3.0\n",
        "!pip install torch-fidelity==0.3.0\n",
        "!pip install transformers==4.19.2\n",
        "!pip install kornia\n",
        "!pip install -e git+https://github.com/CompVis/taming-transformers.git@master#egg=taming-transformers\n",
        "!pip install -e git+https://github.com/openai/CLIP.git@main#egg=clip\n",
        "!pip install invisible-watermark"
      ],
      "metadata": {
        "id": "Lj_bAx9NJCFl"
      },
      "execution_count": null,
      "outputs": []
    },
    {
      "cell_type": "code",
      "source": [
        "!pip check"
      ],
      "metadata": {
        "id": "QCzbpuLRNncs"
      },
      "execution_count": null,
      "outputs": []
    },
    {
      "cell_type": "markdown",
      "source": [
        "## 4. ランタイムを再起動\n",
        "［ランタイム］-［ランタイムを再起動］でランタイムを再起動します。\n",
        "## 5. Stable Diffusionのソースコードをダウンロード"
      ],
      "metadata": {
        "id": "FSDseCnpBkif"
      }
    },
    {
      "cell_type": "code",
      "source": [
        "!git clone https://github.com/CompVis/stable-diffusion.git"
      ],
      "metadata": {
        "id": "2lX24Zw3NpTG"
      },
      "execution_count": null,
      "outputs": []
    },
    {
      "cell_type": "markdown",
      "source": [
        "## 6. Stable Diffusionのセットアップを実行"
      ],
      "metadata": {
        "id": "jyo7e5qaB86P"
      }
    },
    {
      "cell_type": "code",
      "source": [
        "%cd stable-diffusion"
      ],
      "metadata": {
        "id": "blFEmydTWDHV"
      },
      "execution_count": null,
      "outputs": []
    },
    {
      "cell_type": "code",
      "source": [
        "!pip install -e ."
      ],
      "metadata": {
        "id": "QIOArnWZWwyq"
      },
      "execution_count": null,
      "outputs": []
    },
    {
      "cell_type": "markdown",
      "source": [
        "## 7. Google Drive をマウント\n",
        "Google Drive にアップロードした学習済みモデルのファイルを読み込めるように、Google Drive をマウントします。\n",
        "## 8. 学習済みモデルファイルのパスをコピー\n",
        "Google Drive にアップロードした「sd-v1-4.ckpt」ファイルのパスをコピーしておきます。\n",
        "## 9. Stable Diffusion のスクリプト（txt2img.py）を実行\n",
        "--ckpt の後ろは上の8.でコピーしたパスで書き換えます。--prompt の後ろは生成したい画像のプロンプトです。 \n"
      ],
      "metadata": {
        "id": "t6EY3bjfCH8A"
      }
    },
    {
      "cell_type": "code",
      "source": [
        "!python scripts/txt2img.py --prompt \"Mt. Fuji in the style of Gauguin\" --plms --ckpt /content/drive/MyDrive/Models/sd-v1-4.ckpt --skip_grid --n_samples 1"
      ],
      "metadata": {
        "id": "ybBrSLbn1Mbk"
      },
      "execution_count": null,
      "outputs": []
    },
    {
      "cell_type": "markdown",
      "source": [
        "## 10. 生成された画像を確認\n",
        "stable-diffusion/outputs/txt2img-samples/samples/00000.png をダブルクリックして表示する。"
      ],
      "metadata": {
        "id": "G0Jui95vETTN"
      }
    }
  ]
}